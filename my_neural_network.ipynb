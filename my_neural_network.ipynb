{
  "cells": [
    {
      "cell_type": "code",
      "source": [
        "# Mount Google Drive to access data\n",
        "from google.colab import drive\n",
        "drive.mount('/content/drive')\n"
      ],
      "metadata": {
        "id": "y1ZX2FCoIaZ4",
        "outputId": "074dbdd0-07f9-42ef-f347-cd961188f330",
        "colab": {
          "base_uri": "https://localhost:8080/"
        }
      },
      "execution_count": null,
      "outputs": [
        {
          "output_type": "stream",
          "name": "stdout",
          "text": [
            "Mounted at /content/drive\n"
          ]
        }
      ]
    },
    {
      "cell_type": "markdown",
      "source": [
        "Подключение к Google drive"
      ],
      "metadata": {
        "id": "GzcUsEcSIgXv"
      }
    },
    {
      "cell_type": "code",
      "source": [
        "import os\n",
        "import zipfile\n",
        "\n",
        "# Extract the video files from the zip file\n",
        "with zipfile.ZipFile('/content/drive/MyDrive/videos/vid.zip', 'r') as zip_ref:\n",
        "    zip_ref.extractall('/content/videos')\n"
      ],
      "metadata": {
        "id": "9hUgzY2qImUo"
      },
      "execution_count": null,
      "outputs": []
    },
    {
      "cell_type": "markdown",
      "source": [
        "Загрузка файла"
      ],
      "metadata": {
        "id": "782PK5eAIq_I"
      }
    },
    {
      "cell_type": "code",
      "source": [
        "import tensorflow as tf\n",
        "from tensorflow.keras import layers\n",
        "\n",
        "# Define the network architecture\n",
        "model = tf.keras.Sequential([\n",
        "    layers.Conv2D(32, (3, 3), activation='relu', input_shape=(256, 256, 3)),\n",
        "    layers.MaxPooling2D((2, 2)),\n",
        "    layers.Conv2D(64, (3, 3), activation='relu'),\n",
        "    layers.MaxPooling2D((2, 2)),\n",
        "    layers.Conv2D(128, (3, 3), activation='relu'),\n",
        "    layers.MaxPooling2D((2, 2)),\n",
        "    layers.Flatten(),\n",
        "    layers.Dense(128, activation='relu'),\n",
        "    layers.Dense(1, activation='sigmoid')\n",
        "])\n"
      ],
      "metadata": {
        "id": "pGjMUzhUJFSQ"
      },
      "execution_count": null,
      "outputs": []
    },
    {
      "cell_type": "markdown",
      "source": [
        "Самоопределение\n"
      ],
      "metadata": {
        "id": "nWrKXQZ1Jkbg"
      }
    },
    {
      "cell_type": "code",
      "source": [
        "# Compile the model\n",
        "model.compile(optimizer='adam',\n",
        "              loss='binary_crossentropy',\n",
        "              metrics=['accuracy'])\n"
      ],
      "metadata": {
        "id": "Mn-jze-aJnzA"
      },
      "execution_count": null,
      "outputs": []
    },
    {
      "cell_type": "markdown",
      "source": [
        "Компиляция"
      ],
      "metadata": {
        "id": "GK6NgH62KIRw"
      }
    },
    {
      "cell_type": "code",
      "source": [
        "from tensorflow.keras.preprocessing.image import ImageDataGenerator\n",
        "\n",
        "# Create the data generator\n",
        "train_datagen = ImageDataGenerator(rescale=1./255,\n",
        "                                   shear_range=0.2,\n",
        "                                   zoom_range=0.2,\n",
        "                                   horizontal_flip=True)\n"
      ],
      "metadata": {
        "id": "UArWix_oKKM3"
      },
      "execution_count": null,
      "outputs": []
    },
    {
      "cell_type": "markdown",
      "source": [
        "Инструменты для обучения"
      ],
      "metadata": {
        "id": "zLdOcbfdKRaQ"
      }
    },
    {
      "cell_type": "code",
      "source": [
        "# Load the training data\n",
        "train_generator = train_datagen.flow_from_directory('/content/videos',\n",
        "                                                    target_size=(256, 256),\n",
        "                                                    batch_size=32,\n",
        "                                                    class_mode='binary')\n"
      ],
      "metadata": {
        "id": "zdifH-yGKgzw",
        "colab": {
          "base_uri": "https://localhost:8080/"
        },
        "outputId": "b163a8e9-6aad-491e-e926-80c384a71321"
      },
      "execution_count": null,
      "outputs": [
        {
          "output_type": "stream",
          "name": "stdout",
          "text": [
            "Found 0 images belonging to 18 classes.\n"
          ]
        }
      ]
    },
    {
      "cell_type": "markdown",
      "source": [
        "Загрузка Видео"
      ],
      "metadata": {
        "id": "IpNS6kkzLC_o"
      }
    },
    {
      "cell_type": "code",
      "source": [
        "import tensorflow as tf\n",
        "import numpy as np\n",
        "import pandas as pd\n",
        "\n",
        "# download dataset\n",
        "!wget https://storage.googleapis.com/tf-datasets/titanic/train.csv\n",
        "\n",
        "# load dataset\n",
        "dataset = pd.read_csv('train.csv')\n",
        "\n",
        "# split dataset into training and validation sets\n",
        "train_dataset = dataset.sample(frac=0.8, random_state=0)\n",
        "validation_dataset = dataset.drop(train_dataset.index)\n",
        "\n",
        "# define feature columns\n",
        "feature_columns = []\n",
        "for header in ['age', 'n_siblings_spouses', 'parch', 'fare']:\n",
        "  feature_columns.append(tf.feature_column.numeric_column(header))\n",
        "age = tf.feature_column.numeric_column(\"age\")\n",
        "sibsp = tf.feature_column.numeric_column(\"n_siblings_spouses\")\n",
        "parch = tf.feature_column.numeric_column(\"parch\")\n",
        "fare = tf.feature_column.numeric_column(\"fare\")\n",
        "\n",
        "# define input functions\n",
        "def make_input_fn(data_df, label_df, num_epochs=10, shuffle=True, batch_size=32):\n",
        "  def input_function():\n",
        "    ds = tf.data.Dataset.from_tensor_slices((dict(data_df), label_df))\n",
        "    if shuffle:\n",
        "      ds = ds.shuffle(1000)\n",
        "    ds = ds.batch(batch_size).repeat(num_epochs)\n",
        "    return ds\n",
        "  return input_function\n",
        "\n",
        "train_input_fn = make_input_fn(train_dataset, train_dataset.pop('survived'))\n",
        "validation_input_fn = make_input_fn(validation_dataset, validation_dataset.pop('survived'), num_epochs=1, shuffle=False)\n",
        "\n",
        "# create the model\n",
        "model = tf.keras.Sequential([\n",
        "  tf.keras.layers.DenseFeatures(feature_columns=feature_columns),\n",
        "  tf.keras.layers.Dense(units=128, activation='relu'),\n",
        "  tf.keras.layers.Dense(units=128, activation='relu'),\n",
        "  tf.keras.layers.Dense(units=1, activation='sigmoid')\n",
        "])\n",
        "\n",
        "# compile the model\n",
        "model.compile(optimizer='adam',\n",
        "              loss='binary_crossentropy',\n",
        "              metrics=['accuracy'])\n",
        "\n",
        "# train the model\n",
        "history = model.fit(train_input_fn(), epochs=10, validation_data=validation_input_fn())\n",
        "\n"
      ],
      "metadata": {
        "id": "XV2Dcul3LFb4",
        "colab": {
          "base_uri": "https://localhost:8080/"
        },
        "outputId": "baf3ecd8-fd71-43cd-fccd-9a3e55b065bf"
      },
      "execution_count": null,
      "outputs": [
        {
          "output_type": "stream",
          "name": "stdout",
          "text": [
            "--2023-03-04 08:41:05--  https://storage.googleapis.com/tf-datasets/titanic/train.csv\n",
            "Resolving storage.googleapis.com (storage.googleapis.com)... 74.125.23.128, 64.233.189.128, 108.177.97.128, ...\n",
            "Connecting to storage.googleapis.com (storage.googleapis.com)|74.125.23.128|:443... connected.\n",
            "HTTP request sent, awaiting response... 200 OK\n",
            "Length: 30874 (30K) [application/octet-stream]\n",
            "Saving to: ‘train.csv’\n",
            "\n",
            "train.csv           100%[===================>]  30.15K  --.-KB/s    in 0s      \n",
            "\n",
            "2023-03-04 08:41:06 (68.6 MB/s) - ‘train.csv’ saved [30874/30874]\n",
            "\n",
            "Epoch 1/10\n"
          ]
        },
        {
          "output_type": "stream",
          "name": "stderr",
          "text": [
            "WARNING:tensorflow:Layers in a Sequential model should only have a single input tensor. Received: inputs={'sex': <tf.Tensor 'IteratorGetNext:8' shape=(None,) dtype=string>, 'age': <tf.Tensor 'IteratorGetNext:0' shape=(None,) dtype=float64>, 'n_siblings_spouses': <tf.Tensor 'IteratorGetNext:6' shape=(None,) dtype=int64>, 'parch': <tf.Tensor 'IteratorGetNext:7' shape=(None,) dtype=int64>, 'fare': <tf.Tensor 'IteratorGetNext:5' shape=(None,) dtype=float64>, 'class': <tf.Tensor 'IteratorGetNext:2' shape=(None,) dtype=string>, 'deck': <tf.Tensor 'IteratorGetNext:3' shape=(None,) dtype=string>, 'embark_town': <tf.Tensor 'IteratorGetNext:4' shape=(None,) dtype=string>, 'alone': <tf.Tensor 'IteratorGetNext:1' shape=(None,) dtype=string>}. Consider rewriting this model with the Functional API.\n",
            "WARNING:tensorflow:Layers in a Sequential model should only have a single input tensor. Received: inputs={'sex': <tf.Tensor 'IteratorGetNext:8' shape=(None,) dtype=string>, 'age': <tf.Tensor 'IteratorGetNext:0' shape=(None,) dtype=float64>, 'n_siblings_spouses': <tf.Tensor 'IteratorGetNext:6' shape=(None,) dtype=int64>, 'parch': <tf.Tensor 'IteratorGetNext:7' shape=(None,) dtype=int64>, 'fare': <tf.Tensor 'IteratorGetNext:5' shape=(None,) dtype=float64>, 'class': <tf.Tensor 'IteratorGetNext:2' shape=(None,) dtype=string>, 'deck': <tf.Tensor 'IteratorGetNext:3' shape=(None,) dtype=string>, 'embark_town': <tf.Tensor 'IteratorGetNext:4' shape=(None,) dtype=string>, 'alone': <tf.Tensor 'IteratorGetNext:1' shape=(None,) dtype=string>}. Consider rewriting this model with the Functional API.\n"
          ]
        },
        {
          "output_type": "stream",
          "name": "stdout",
          "text": [
            "158/160 [============================>.] - ETA: 0s - loss: 0.6918 - accuracy: 0.6659"
          ]
        },
        {
          "output_type": "stream",
          "name": "stderr",
          "text": [
            "WARNING:tensorflow:Layers in a Sequential model should only have a single input tensor. Received: inputs={'sex': <tf.Tensor 'IteratorGetNext:8' shape=(None,) dtype=string>, 'age': <tf.Tensor 'IteratorGetNext:0' shape=(None,) dtype=float64>, 'n_siblings_spouses': <tf.Tensor 'IteratorGetNext:6' shape=(None,) dtype=int64>, 'parch': <tf.Tensor 'IteratorGetNext:7' shape=(None,) dtype=int64>, 'fare': <tf.Tensor 'IteratorGetNext:5' shape=(None,) dtype=float64>, 'class': <tf.Tensor 'IteratorGetNext:2' shape=(None,) dtype=string>, 'deck': <tf.Tensor 'IteratorGetNext:3' shape=(None,) dtype=string>, 'embark_town': <tf.Tensor 'IteratorGetNext:4' shape=(None,) dtype=string>, 'alone': <tf.Tensor 'IteratorGetNext:1' shape=(None,) dtype=string>}. Consider rewriting this model with the Functional API.\n"
          ]
        },
        {
          "output_type": "stream",
          "name": "stdout",
          "text": [
            "\b\b\b\b\b\b\b\b\b\b\b\b\b\b\b\b\b\b\b\b\b\b\b\b\b\b\b\b\b\b\b\b\b\b\b\b\b\b\b\b\b\b\b\b\b\b\b\b\b\b\b\b\b\b\b\b\b\b\b\b\b\b\b\b\b\b\b\b\b\b\b\b\b\b\b\b\b\b\b\b\b\b\b\b\r160/160 [==============================] - 10s 22ms/step - loss: 0.6909 - accuracy: 0.6659 - val_loss: 0.6381 - val_accuracy: 0.7200\n",
            "Epoch 2/10\n",
            "160/160 [==============================] - 2s 11ms/step - loss: 0.6556 - accuracy: 0.6743 - val_loss: 0.8031 - val_accuracy: 0.5520\n",
            "Epoch 3/10\n",
            "160/160 [==============================] - 1s 3ms/step - loss: 0.6514 - accuracy: 0.6797 - val_loss: 0.6819 - val_accuracy: 0.6640\n",
            "Epoch 4/10\n",
            "160/160 [==============================] - 1s 3ms/step - loss: 0.6129 - accuracy: 0.6863 - val_loss: 0.6655 - val_accuracy: 0.6160\n",
            "Epoch 5/10\n",
            "160/160 [==============================] - 1s 3ms/step - loss: 0.5862 - accuracy: 0.6954 - val_loss: 0.6234 - val_accuracy: 0.7280\n",
            "Epoch 6/10\n",
            "160/160 [==============================] - 1s 3ms/step - loss: 0.6019 - accuracy: 0.6946 - val_loss: 0.6073 - val_accuracy: 0.7520\n",
            "Epoch 7/10\n",
            "160/160 [==============================] - 1s 3ms/step - loss: 0.5887 - accuracy: 0.6984 - val_loss: 0.5985 - val_accuracy: 0.7440\n",
            "Epoch 8/10\n",
            "160/160 [==============================] - 1s 3ms/step - loss: 0.5786 - accuracy: 0.7028 - val_loss: 0.6004 - val_accuracy: 0.7760\n",
            "Epoch 9/10\n",
            "160/160 [==============================] - 1s 3ms/step - loss: 0.5824 - accuracy: 0.7032 - val_loss: 0.6060 - val_accuracy: 0.7520\n",
            "Epoch 10/10\n",
            "160/160 [==============================] - 1s 5ms/step - loss: 0.5864 - accuracy: 0.7058 - val_loss: 0.6102 - val_accuracy: 0.7600\n"
          ]
        }
      ]
    },
    {
      "cell_type": "markdown",
      "source": [
        "Тренировка модели"
      ],
      "metadata": {
        "id": "SMwZDElYLHQo"
      }
    },
    {
      "cell_type": "code",
      "source": [
        "# Save the model\n",
        "model.save('/content/drive/MyDrive/code_recognition_model')\n"
      ],
      "metadata": {
        "id": "6sFrjcaKLLc4",
        "colab": {
          "base_uri": "https://localhost:8080/"
        },
        "outputId": "8dc91594-218d-4f28-a43e-af45b19b16d3"
      },
      "execution_count": null,
      "outputs": [
        {
          "output_type": "stream",
          "name": "stderr",
          "text": [
            "WARNING:tensorflow:Layers in a Sequential model should only have a single input tensor. Received: inputs={'sex': <tf.Tensor 'sex:0' shape=(None,) dtype=string>, 'age': <tf.Tensor 'age:0' shape=(None,) dtype=float64>, 'n_siblings_spouses': <tf.Tensor 'n_siblings_spouses:0' shape=(None,) dtype=int64>, 'parch': <tf.Tensor 'parch:0' shape=(None,) dtype=int64>, 'fare': <tf.Tensor 'fare:0' shape=(None,) dtype=float64>, 'class': <tf.Tensor 'class:0' shape=(None,) dtype=string>, 'deck': <tf.Tensor 'deck:0' shape=(None,) dtype=string>, 'embark_town': <tf.Tensor 'embark_town:0' shape=(None,) dtype=string>, 'alone': <tf.Tensor 'alone:0' shape=(None,) dtype=string>}. Consider rewriting this model with the Functional API.\n",
            "WARNING:tensorflow:Layers in a Sequential model should only have a single input tensor. Received: inputs={'sex': <tf.Tensor 'inputs_8:0' shape=(None,) dtype=string>, 'age': <tf.Tensor 'inputs:0' shape=(None,) dtype=float64>, 'n_siblings_spouses': <tf.Tensor 'inputs_6:0' shape=(None,) dtype=int64>, 'parch': <tf.Tensor 'inputs_7:0' shape=(None,) dtype=int64>, 'fare': <tf.Tensor 'inputs_5:0' shape=(None,) dtype=float64>, 'class': <tf.Tensor 'inputs_2:0' shape=(None,) dtype=string>, 'deck': <tf.Tensor 'inputs_3:0' shape=(None,) dtype=string>, 'embark_town': <tf.Tensor 'inputs_4:0' shape=(None,) dtype=string>, 'alone': <tf.Tensor 'inputs_1:0' shape=(None,) dtype=string>}. Consider rewriting this model with the Functional API.\n",
            "WARNING:tensorflow:Layers in a Sequential model should only have a single input tensor. Received: inputs={'sex': <tf.Tensor 'inputs_8:0' shape=(None,) dtype=string>, 'age': <tf.Tensor 'inputs:0' shape=(None,) dtype=float64>, 'n_siblings_spouses': <tf.Tensor 'inputs_6:0' shape=(None,) dtype=int64>, 'parch': <tf.Tensor 'inputs_7:0' shape=(None,) dtype=int64>, 'fare': <tf.Tensor 'inputs_5:0' shape=(None,) dtype=float64>, 'class': <tf.Tensor 'inputs_2:0' shape=(None,) dtype=string>, 'deck': <tf.Tensor 'inputs_3:0' shape=(None,) dtype=string>, 'embark_town': <tf.Tensor 'inputs_4:0' shape=(None,) dtype=string>, 'alone': <tf.Tensor 'inputs_1:0' shape=(None,) dtype=string>}. Consider rewriting this model with the Functional API.\n",
            "WARNING:tensorflow:Layers in a Sequential model should only have a single input tensor. Received: inputs={'sex': <tf.Tensor 'sex:0' shape=(None,) dtype=string>, 'age': <tf.Tensor 'age:0' shape=(None,) dtype=float64>, 'n_siblings_spouses': <tf.Tensor 'n_siblings_spouses:0' shape=(None,) dtype=int64>, 'parch': <tf.Tensor 'parch:0' shape=(None,) dtype=int64>, 'fare': <tf.Tensor 'fare:0' shape=(None,) dtype=float64>, 'class': <tf.Tensor 'class:0' shape=(None,) dtype=string>, 'deck': <tf.Tensor 'deck:0' shape=(None,) dtype=string>, 'embark_town': <tf.Tensor 'embark_town:0' shape=(None,) dtype=string>, 'alone': <tf.Tensor 'alone:0' shape=(None,) dtype=string>}. Consider rewriting this model with the Functional API.\n",
            "WARNING:tensorflow:Layers in a Sequential model should only have a single input tensor. Received: inputs={'sex': <tf.Tensor 'sex:0' shape=(None,) dtype=string>, 'age': <tf.Tensor 'age:0' shape=(None,) dtype=float64>, 'n_siblings_spouses': <tf.Tensor 'n_siblings_spouses:0' shape=(None,) dtype=int64>, 'parch': <tf.Tensor 'parch:0' shape=(None,) dtype=int64>, 'fare': <tf.Tensor 'fare:0' shape=(None,) dtype=float64>, 'class': <tf.Tensor 'class:0' shape=(None,) dtype=string>, 'deck': <tf.Tensor 'deck:0' shape=(None,) dtype=string>, 'embark_town': <tf.Tensor 'embark_town:0' shape=(None,) dtype=string>, 'alone': <tf.Tensor 'alone:0' shape=(None,) dtype=string>}. Consider rewriting this model with the Functional API.\n",
            "WARNING:tensorflow:Layers in a Sequential model should only have a single input tensor. Received: inputs={'sex': <tf.Tensor 'inputs_sex:0' shape=(None,) dtype=string>, 'age': <tf.Tensor 'inputs_age:0' shape=(None,) dtype=float64>, 'n_siblings_spouses': <tf.Tensor 'inputs_n_siblings_spouses:0' shape=(None,) dtype=int64>, 'parch': <tf.Tensor 'inputs_parch:0' shape=(None,) dtype=int64>, 'fare': <tf.Tensor 'inputs_fare:0' shape=(None,) dtype=float64>, 'class': <tf.Tensor 'inputs_class:0' shape=(None,) dtype=string>, 'deck': <tf.Tensor 'inputs_deck:0' shape=(None,) dtype=string>, 'embark_town': <tf.Tensor 'inputs_embark_town:0' shape=(None,) dtype=string>, 'alone': <tf.Tensor 'inputs_alone:0' shape=(None,) dtype=string>}. Consider rewriting this model with the Functional API.\n",
            "WARNING:tensorflow:Layers in a Sequential model should only have a single input tensor. Received: inputs={'sex': <tf.Tensor 'inputs_sex:0' shape=(None,) dtype=string>, 'age': <tf.Tensor 'inputs_age:0' shape=(None,) dtype=float64>, 'n_siblings_spouses': <tf.Tensor 'inputs_n_siblings_spouses:0' shape=(None,) dtype=int64>, 'parch': <tf.Tensor 'inputs_parch:0' shape=(None,) dtype=int64>, 'fare': <tf.Tensor 'inputs_fare:0' shape=(None,) dtype=float64>, 'class': <tf.Tensor 'inputs_class:0' shape=(None,) dtype=string>, 'deck': <tf.Tensor 'inputs_deck:0' shape=(None,) dtype=string>, 'embark_town': <tf.Tensor 'inputs_embark_town:0' shape=(None,) dtype=string>, 'alone': <tf.Tensor 'inputs_alone:0' shape=(None,) dtype=string>}. Consider rewriting this model with the Functional API.\n",
            "WARNING:absl:Found untraced functions such as _update_step_xla while saving (showing 1 of 1). These functions will not be directly callable after loading.\n"
          ]
        }
      ]
    },
    {
      "cell_type": "markdown",
      "source": [
        "Сохранение"
      ],
      "metadata": {
        "id": "2U1JLn8VLW7n"
      }
    },
    {
      "cell_type": "code",
      "source": [
        "from flask import Flask, request, jsonify\n",
        "import tensorflow as tf\n",
        "import numpy as np\n",
        "\n",
        "# Define your neural network model here\n",
        "def predict(input_data):\n",
        "    # ...\n",
        "    return output_data\n",
        "\n",
        "app = Flask(__name__)\n",
        "\n",
        "@app.route('/')\n",
        "def index():\n",
        "    # Serve the HTML file with the input and output windows\n",
        "    return render_template('index.html')\n",
        "\n",
        "@app.route('/predict', methods=['POST'])\n",
        "def predict_handler():\n",
        "    # Parse input data from the request\n",
        "    input_data = request.json['input_data']\n",
        "\n",
        "    # Pass input data to the neural network model\n",
        "    output_data = predict(input_data)\n",
        "\n",
        "    # Return output data as a response\n",
        "    response_data = {'output_data': output_data}\n",
        "    return jsonify(response_data)\n",
        "\n",
        "if __name__ == '__main__':\n",
        "    app.run()\n"
      ],
      "metadata": {
        "colab": {
          "base_uri": "https://localhost:8080/"
        },
        "id": "BVyPIRa10CNu",
        "outputId": "e3af9cc1-6b89-4a78-a35f-6203a1549e15"
      },
      "execution_count": null,
      "outputs": [
        {
          "output_type": "stream",
          "name": "stdout",
          "text": [
            " * Serving Flask app '__main__'\n",
            " * Debug mode: off\n"
          ]
        },
        {
          "output_type": "stream",
          "name": "stderr",
          "text": [
            "INFO:werkzeug:\u001b[31m\u001b[1mWARNING: This is a development server. Do not use it in a production deployment. Use a production WSGI server instead.\u001b[0m\n",
            " * Running on http://127.0.0.1:5000\n",
            "INFO:werkzeug:\u001b[33mPress CTRL+C to quit\u001b[0m\n"
          ]
        }
      ]
    },
    {
      "cell_type": "markdown",
      "source": [],
      "metadata": {
        "id": "3VqhgEAmw9e9"
      }
    }
  ],
  "metadata": {
    "colab": {
      "provenance": []
    },
    "kernelspec": {
      "display_name": "Python 3",
      "name": "python3"
    }
  },
  "nbformat": 4,
  "nbformat_minor": 0
}